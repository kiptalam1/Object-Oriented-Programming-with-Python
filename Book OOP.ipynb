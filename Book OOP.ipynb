{
  "metadata": {
    "kernelspec": {
      "name": "python",
      "display_name": "Python (Pyodide)",
      "language": "python"
    },
    "language_info": {
      "codemirror_mode": {
        "name": "python",
        "version": 3
      },
      "file_extension": ".py",
      "mimetype": "text/x-python",
      "name": "python",
      "nbconvert_exporter": "python",
      "pygments_lexer": "ipython3",
      "version": "3.8"
    }
  },
  "nbformat_minor": 4,
  "nbformat": 4,
  "cells": [
    {
      "cell_type": "markdown",
      "source": "Question 1: Classes and Objects\nCreate a simple class called Book that has three attributes: title, author, and year. Then, create two instances of the Book class and print out their details.\n\nQuestion 2: Methods\nExpand the Book class to include a method called get_description that returns a string description of the book in the format: \"Title by Author, published in Year\".\n\nQuestion 3: Inheritance\nCreate a subclass of Book called EBook that adds an additional attribute called file_size (representing the size of the eBook file in MB). Ensure that this new class also includes the method get_description, which should now include the file size in the description.\n\nQuestion 4: Encapsulation\nModify the Book class to make the year attribute private. Add a method to get the year and a method to set the year, ensuring that the year is always a positive integer.\n\nQuestion 5: Polymorphism\nCreate a function outside the classes called print_book_details that takes a Book object and prints its description using the get_description method. Demonstrate polymorphism by passing both Book and EBook objects to this function.\n\nQuestion 6: Composition\nCreate another class called Library that contains a list of Book objects. Implement methods to add a book to the library, remove a book from the library by title, and list all books in the library.\n\nQuestion 7: Magic Methods\nModify the Book class to include the __str__ and __repr__ magic methods to provide a string representation of the book object.",
      "metadata": {}
    },
    {
      "cell_type": "code",
      "source": "class Book:\n    def __init__(self, title, author, year):\n        self.title = title\n        self.author = author\n        self.year = year\n\nbook1 = Book(\"The subtle art of not giving a fvck\", \"Mark Manson\", 2010)\nbook2 = Book(\"48 Laws of power\", \"Robert Greene\", 2004)\n\nprint(f\"{book1.title} - {book1.author} - {book1.year}\")\nprint(f\"{book2.title} - {book2.author} - {book2.year}\")",
      "metadata": {
        "trusted": true
      },
      "outputs": [
        {
          "name": "stdout",
          "text": "The subtle art of not giving a fvck - Mark Manson - 2010\n48 Laws of power - Robert Greene - 2004\n",
          "output_type": "stream"
        }
      ],
      "execution_count": 2
    },
    {
      "cell_type": "code",
      "source": "# 2.\nclass Book:\n    def __init__(self, title, author, year):\n        self.title = title\n        self.author = author\n        self.year = year\n\n    def get_description(self):\n        return f\"{self.title} by {self.author}, published in {self.year}\"\n        \nbook1 = Book(\"The subtle art of not giving a fvck\", \"Mark Manson\", 2010)\nbook2 = Book(\"48 Laws of power\", \"Robert Greene\", 2004)\n\nprint(Book.get_description(book1))\n\n#print(f\"{book1.title} - {book1.author} - {book1.year}\")\n#print(f\"{book2.title} - {book2.author} - {book2.year}\")",
      "metadata": {
        "trusted": true
      },
      "outputs": [
        {
          "name": "stdout",
          "text": "The subtle art of not giving a fvck by Mark Manson, published in 2010\n",
          "output_type": "stream"
        }
      ],
      "execution_count": 3
    },
    {
      "cell_type": "code",
      "source": "# 3.\n\nclass Book:\n    def __init__(self, title, author, year):\n        self.title = title\n        self.author = author\n        self.year = year\n\n    def get_description(self):\n        return f\"{self.title} by {self.author}, published in {self.year}\"\n\nclass EBook(Book):\n    def __init__(self, title, author, year, file_size):\n        super().__init__(title, author, year)\n        self.file_size = file_size\n\n    def get_description(self):\n        return f\"{self.title} by {self.author}, published in {self.year}, file size: {self.file_size} MB\"\n        \n#book1 = Book(\"The subtle art of not giving a fvck\", \"Mark Manson\", 2010)\n#book2 = Book(\"48 Laws of power\", \"Robert Greene\", 2004)\n\n#print(Book.get_description(book1))\n\n#print(f\"{book1.title} - {book1.author} - {book1.year}\")\n#print(f\"{book2.title} - {book2.author} - {book2.year}\")\n\nebook1 = EBook(\"Digital Fortress\", \"Dan Brown\", 1998, 1.5)\nprint(ebook1.get_description())",
      "metadata": {
        "trusted": true
      },
      "outputs": [
        {
          "name": "stdout",
          "text": "Digital Fortress by Dan Brown, published in 1998, file size: 1.5 MB\n",
          "output_type": "stream"
        }
      ],
      "execution_count": 4
    },
    {
      "cell_type": "code",
      "source": "# 4. Encapsulation Modify the Book class to make the year attribute private. Add a method to get the year and a method to set the year, \n# ensuring that the year is always a positive integer.\nclass Book:\n    def __init__(self, title, author, year):\n        self.title = title\n        self.author = author\n        self.__year = year\n\n    def get_year(self):\n        return self.__year \n\n    def set_year(self, year):\n        if year > 0:\n            self.__year = year\n        else:\n            raise ValueError(\"Year must be a positive integer!\")\n\nbook1 = Book(\"1984\", \"George Orwell\", 1949)\nprint(book1.get_year())\nbook1.set_year(1950)\nprint(book1.get_year())",
      "metadata": {
        "trusted": true
      },
      "outputs": [
        {
          "name": "stdout",
          "text": "1949\n1950\n",
          "output_type": "stream"
        }
      ],
      "execution_count": 5
    },
    {
      "cell_type": "code",
      "source": "class Book:\n    def __init__(self, title, author, year):\n        self.title = title\n        self.author = author\n        self.year = year\n\n    def get_description(self):\n        return f\"{self.title} by {self.author}, published in {self.year}\"\n\nclass EBook(Book):\n    def __init__(self, title, author, year, file_size):\n        super().__init__(title, author, year)\n        self.file_size = file_size\n\n    def get_description(self):\n        return f\"{self.title} by {self.author}, published in {self.year}, file size: {self.file_size} MB\"\n        \ndef print_book_details(book):\n    print(book.get_description())\n\nbook1 = Book(\"1984\", \"George Orwell\", 1949)\nebook1 = EBook(\"Digital Fortress\", \"Dan Brown\", 1998, 1.5)\n\nprint_book_details(book1)\nprint_book_details(ebook1)\n",
      "metadata": {
        "trusted": true
      },
      "outputs": [
        {
          "name": "stdout",
          "text": "1984 by George Orwell, published in 1949\nDigital Fortress by Dan Brown, published in 1998, file size: 1.5 MB\n",
          "output_type": "stream"
        }
      ],
      "execution_count": 6
    },
    {
      "cell_type": "code",
      "source": "# Question 6: Composition Create another class called Library that contains a list of Book objects. Implement methods to add a book to the library, \n# remove a book from the library by title, and list all books in the library.\n\nclass Book:\n    def __init__(self, title, author, year):\n        self.title = title\n        self.author = author\n        self.year = year\n\n    def get_description(self):\n        return f\"{self.title} by {self.author}, published in {self.year}\"\n\nclass EBook(Book):\n    def __init__(self, title, author, year, file_size):\n        super().__init__(title, author, year)\n        self.file_size = file_size\n\n    def get_description(self):\n        return f\"{self.title} by {self.author}, published in {self.year}, file size: {self.file_size} MB\"\n        \ndef print_book_details(book):\n    print(book.get_description())\n\nbook1 = Book(\"1984\", \"George Orwell\", 1949)\nebook1 = EBook(\"Digital Fortress\", \"Dan Brown\", 1998, 1.5)\n\n#print_book_details(book1)\n#print_book_details(ebook1)\n\nclass Library:\n    def __init__(self):\n        self.books = []\n    \n    def add_book(self, book):\n        self.books.append(book)\n    \n    def remove_book(self, title):\n        self.books = [book for book in self.books if book.title != title]\n    \n    def list_books(self):\n        for book in self.books:\n            print(book.get_description())\n\nlibrary = Library()\nbook1 = Book(\"1984\", \"George Orwell\", 1949)\nebook1 = EBook(\"Digital Fortress\", \"Dan Brown\", 1998, 1.5)\n\nlibrary.add_book(book1)\nlibrary.add_book(ebook1)\nlibrary.list_books()\nlibrary.remove_book(\"1984\")\nlibrary.list_books()\n",
      "metadata": {
        "trusted": true
      },
      "outputs": [
        {
          "name": "stdout",
          "text": "1984 by George Orwell, published in 1949\nDigital Fortress by Dan Brown, published in 1998, file size: 1.5 MB\nDigital Fortress by Dan Brown, published in 1998, file size: 1.5 MB\n",
          "output_type": "stream"
        }
      ],
      "execution_count": 7
    },
    {
      "cell_type": "code",
      "source": "#Question 7: Magic Methods Modify the Book class to include the str and repr magic methods to provide a string representation of the book object.\n\nclass Book:\n    def __init__(self, title, author, year):\n        self.title = title\n        self.author = author\n        self.__year = year\n    \n    def get_year(self):\n        return self.__year\n    \n    def set_year(self, year):\n        if year > 0:\n            self.__year = year\n        else:\n            raise ValueError(\"Year must be a positive integer\")\n    \n    def get_description(self):\n        return f\"{self.title} by {self.author}, published in {self.__year}\"\n    \n    def __str__(self):\n        return self.get_description()\n    \n    def __repr__(self):\n        return f\"Book({self.title}, {self.author}, {self.__year})\"\n\nbook1 = Book(\"1984\", \"George Orwell\", 1949)\nprint(book1)\nprint(repr(book1))\n",
      "metadata": {
        "trusted": true
      },
      "outputs": [
        {
          "name": "stdout",
          "text": "1984 by George Orwell, published in 1949\nBook(1984, George Orwell, 1949)\n",
          "output_type": "stream"
        }
      ],
      "execution_count": 8
    }
  ]
}