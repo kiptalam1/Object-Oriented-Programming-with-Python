{
 "cells": [
  {
   "cell_type": "markdown",
   "id": "5ed85ddf-7089-404c-87d0-999cefc3a36b",
   "metadata": {},
   "source": [
    "# Question 1: Basic Class and Instance\n",
    "Create a class Person with attributes name and age. Add a method introduce that prints \"Hello, my name is name and I am age years old\". Create two instances of the Person class and call their introduce methods."
   ]
  },
  {
   "cell_type": "code",
   "execution_count": 2,
   "id": "3cf65387-ad2e-441b-b0fd-43e7fe4aa3d5",
   "metadata": {},
   "outputs": [
    {
     "name": "stdout",
     "output_type": "stream",
     "text": [
      "Hello, my name is Adams Kiptalam and I am 24 years old.\n",
      "Hello, my name is Evans Kimunai and I am 29 years old.\n"
     ]
    }
   ],
   "source": [
    "class Person:\n",
    "    def __init__(self, name, age):\n",
    "        self.name = name\n",
    "        self.age = age\n",
    "\n",
    "    def introduce(self):\n",
    "        print(f\"Hello, my name is {self.name} and I am {self.age} years old.\")\n",
    "\n",
    "person1 = Person(\"Adams Kiptalam\", 24)\n",
    "person2 = Person(\"Evans Kimunai\", 29)\n",
    "\n",
    "person1.introduce()\n",
    "person2.introduce()"
   ]
  },
  {
   "cell_type": "markdown",
   "id": "0f7fb60d-bec6-4bce-abf8-f16d43b97c53",
   "metadata": {},
   "source": [
    "# Question 2: Class Methods and Static Methods\n",
    "Enhance the Person class by adding a class method from_birth_year which takes name and birth_year and returns an instance of Person with the age calculated based on the current year. Also, add a static method is_adult that takes an age and returns whether the person is an adult (age >= 18)."
   ]
  },
  {
   "cell_type": "code",
   "execution_count": 21,
   "id": "35536070-dae5-4c41-8c7b-4f0450e8965c",
   "metadata": {},
   "outputs": [
    {
     "name": "stdout",
     "output_type": "stream",
     "text": [
      "<__main__.Person object at 0x000002DE0242FF50>\n",
      "Not an adult\n"
     ]
    }
   ],
   "source": [
    "class Person:\n",
    "    def __init__(self, name, age):\n",
    "        self.name = name\n",
    "        self.age = age\n",
    "\n",
    "    def introduce(self):\n",
    "        print(f\"Hello, my name is {self.name} and I am {self.age} years old.\")\n",
    "\n",
    "    @classmethod\n",
    "    def from_birth_year(cls, name, birth_year):\n",
    "        current_year = 2024\n",
    "        age =  current_year - birth_year\n",
    "        return cls(name, age)\n",
    "\n",
    "    @staticmethod\n",
    "    def is_adult(age):\n",
    "        if age >= 18:\n",
    "            return \"Adult\"\n",
    "        return \"Not an adult\"\n",
    "\n",
    "person1 = Person(\"Adams\", 24)\n",
    "print(person1.from_birth_year(\"Adams\", 2000))\n",
    "print(person1.is_adult(17))"
   ]
  },
  {
   "cell_type": "markdown",
   "id": "002d14a7-062c-4fdd-80c9-d4b25f50772c",
   "metadata": {},
   "source": [
    "# Question 3: Inheritance and Method Overriding\n",
    "Create a class Vehicle with attributes make and model. Add a method get_info that returns a string with the vehicle's make and model. Then, create a subclass Car that adds an attribute num_doors and overrides the get_info method to include the number of doors in the returned string."
   ]
  },
  {
   "cell_type": "code",
   "execution_count": 22,
   "id": "2fec9502-bcf4-45b8-8038-cdfa6f3bb6ea",
   "metadata": {},
   "outputs": [
    {
     "name": "stdout",
     "output_type": "stream",
     "text": [
      "Toyota Camry, 4 doors\n"
     ]
    }
   ],
   "source": [
    "class Vehicle:\n",
    "    def __init__(self, make, model):\n",
    "        self.make = make\n",
    "        self.model = model\n",
    "\n",
    "    def get_info(self):\n",
    "        return f\"{self.make} {self.model}\"\n",
    "\n",
    "class Car(Vehicle):\n",
    "    def __init__(self, make, model, num_doors):\n",
    "        super().__init__(make, model)\n",
    "        self.num_doors = num_doors\n",
    "        \n",
    "\n",
    "    def get_info(self):\n",
    "        return f\"{self.make} {self.model}, {self.num_doors} doors\"\n",
    "\n",
    "car = Car(\"Toyota\", \"Camry\", 4)\n",
    "print(car.get_info())\n",
    "        "
   ]
  },
  {
   "cell_type": "markdown",
   "id": "cf5e3354-1325-4e60-83ba-040c33d1721f",
   "metadata": {},
   "source": [
    "# Question 4: Encapsulation\n",
    "Modify the Person class to make the age attribute private. Add getter and setter methods for age that validate the age (it should be a positive integer)."
   ]
  },
  {
   "cell_type": "code",
   "execution_count": 26,
   "id": "54a682c8-9614-4345-a697-0e88a1490785",
   "metadata": {},
   "outputs": [
    {
     "name": "stdout",
     "output_type": "stream",
     "text": [
      "30\n",
      "35\n"
     ]
    }
   ],
   "source": [
    "class Person:\n",
    "    def __init__(self, name, age):\n",
    "        self.name = name\n",
    "        self.__age = age\n",
    "\n",
    "    \n",
    "    def get_age(self):\n",
    "        return self.__age\n",
    "\n",
    "    def set_age(self, age):\n",
    "        if age > 0:\n",
    "            self.__age = age\n",
    "        else:\n",
    "            raise ValueError(\"Age must be a positive number!\")\n",
    "            \n",
    "\n",
    "    def introduce(self):\n",
    "        print(f\"Hello, my name is {self.name} and I am {self.__age} years old.\")\n",
    "\n",
    "    @classmethod\n",
    "    def from_birth_year(cls, name, birth_year):\n",
    "        current_year = 2024\n",
    "        age =  current_year - birth_year\n",
    "        return cls(name, age)\n",
    "\n",
    "    @staticmethod\n",
    "    def is_adult(age):\n",
    "        if age >= 18:\n",
    "            return \"Adult\"\n",
    "        return \"Not an adult\"\n",
    "\n",
    "person1 = Person(\"Alice\", 30)\n",
    "print(person1.get_age())\n",
    "person1.set_age(35)\n",
    "print(person1.get_age())"
   ]
  },
  {
   "cell_type": "markdown",
   "id": "4457633f-dbf7-4335-8669-56136b82565f",
   "metadata": {},
   "source": [
    "# Question 5: Polymorphism and Duck Typing\n",
    "Create two classes, Dog and Cat, each with a method make_sound that prints the sound the animal makes (\"Bark\" for Dog and \"Meow\" for Cat). Then, write a function make_animal_sound that takes an animal object and calls its make_sound method. Demonstrate polymorphism by passing instances of Dog and Cat to this function."
   ]
  },
  {
   "cell_type": "code",
   "execution_count": 30,
   "id": "7dfbaaff-66f5-46cd-b038-dc17243174b5",
   "metadata": {},
   "outputs": [
    {
     "name": "stdout",
     "output_type": "stream",
     "text": [
      "Bark\n",
      "Meow\n"
     ]
    }
   ],
   "source": [
    "class Dog:\n",
    "    def make_sound(self):\n",
    "        print(\"Bark\")\n",
    "\n",
    "class Cat:\n",
    "    def make_sound(self):\n",
    "        print(\"Meow\")\n",
    "\n",
    "def make_animal_sound(animal):\n",
    "    animal.make_sound()\n",
    "\n",
    "dog = Dog()\n",
    "cat = Cat()\n",
    "\n",
    "make_animal_sound(dog)\n",
    "make_animal_sound(cat)"
   ]
  },
  {
   "cell_type": "markdown",
   "id": "09f0def4-3cf4-41cd-baac-e5e803769e62",
   "metadata": {},
   "source": [
    "# Question 6: Composition\n",
    "Create a class Employee with attributes name and position. Then, create a class Department which contains a list of Employee objects. Implement methods to add an employee, remove an employee by name, and list all employees in the department."
   ]
  },
  {
   "cell_type": "code",
   "execution_count": 40,
   "id": "e45b0cd6-7beb-485c-a021-014aa96b001d",
   "metadata": {},
   "outputs": [
    {
     "name": "stdout",
     "output_type": "stream",
     "text": [
      "Alice, Manager\n",
      "Bob, Developer\n",
      "Bob, Developer\n"
     ]
    }
   ],
   "source": [
    "class Employee:\n",
    "    def __init__(self, name, position):\n",
    "        self.name = name\n",
    "        self.position = position\n",
    "\n",
    "class Department:\n",
    "    def __init__(self):\n",
    "        self.employees = []\n",
    "\n",
    "    def add_employee(self, employee):\n",
    "        self.employees.append(employee)\n",
    "\n",
    "    def remove_employee(self, name):\n",
    "        self.employees = [emp for emp in self.employees if emp.name != name]\n",
    "\n",
    "    def list_employees(self):\n",
    "        for emp in self.employees:\n",
    "            print(f\"{emp.name}, {emp.position}\")\n",
    "\n",
    "\n",
    "dept = Department()\n",
    "emp1 = Employee(\"Alice\", \"Manager\")\n",
    "emp2 = Employee(\"Bob\", \"Developer\")\n",
    "\n",
    "\n",
    "dept.add_employee(emp1)\n",
    "dept.add_employee(emp2)\n",
    "dept.list_employees()\n",
    "dept.remove_employee(\"Alice\")\n",
    "dept.list_employees()\n"
   ]
  },
  {
   "cell_type": "markdown",
   "id": "72657993-bbdd-445d-a5b2-d642283cf1ea",
   "metadata": {},
   "source": [
    "# Question 7: Magic Methods and Operator Overloading\n",
    "Create a class Vector with attributes x and y representing coordinates. Implement the __add__ method to allow vector addition using the + operator. Also, implement the __str__ method to provide a string representation of the vector."
   ]
  },
  {
   "cell_type": "code",
   "execution_count": 41,
   "id": "a7ed2c96-8b59-4039-bd47-119da3840997",
   "metadata": {},
   "outputs": [
    {
     "name": "stdout",
     "output_type": "stream",
     "text": [
      "Vector(6, 8)\n"
     ]
    }
   ],
   "source": [
    "class Vector:\n",
    "    def __init__(self, x, y):\n",
    "        self.x = x\n",
    "        self.y = y\n",
    "\n",
    "    def __add__(self, other):\n",
    "        return Vector(self.x + other.x, self.y + other.y)\n",
    "\n",
    "    def __repr__(self):\n",
    "        return f\"Vector({self.x}, {self.y})\"\n",
    "\n",
    "v1 = Vector(2, 3)\n",
    "v2 = Vector(4, 5)\n",
    "v3 = v1 + v2\n",
    "print(v3)"
   ]
  }
 ],
 "metadata": {
  "kernelspec": {
   "display_name": "Python 3 (ipykernel)",
   "language": "python",
   "name": "python3"
  },
  "language_info": {
   "codemirror_mode": {
    "name": "ipython",
    "version": 3
   },
   "file_extension": ".py",
   "mimetype": "text/x-python",
   "name": "python",
   "nbconvert_exporter": "python",
   "pygments_lexer": "ipython3",
   "version": "3.11.3"
  }
 },
 "nbformat": 4,
 "nbformat_minor": 5
}
