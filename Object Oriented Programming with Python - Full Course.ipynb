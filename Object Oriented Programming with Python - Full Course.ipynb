{
 "cells": [
  {
   "cell_type": "markdown",
   "id": "9900a3fb-e744-4e1e-baa5-9a903fcac166",
   "metadata": {},
   "source": [
    "# Object Oriented Programming with Python - Full Course"
   ]
  },
  {
   "cell_type": "code",
   "execution_count": 104,
   "id": "e036bb4a-0f58-428c-bd21-ab42e5c0a5ec",
   "metadata": {},
   "outputs": [
    {
     "name": "stdout",
     "output_type": "stream",
     "text": [
      "Hello world by 1st@gmail.com\n",
      "Hi there by 2nd@gmail.com\n"
     ]
    }
   ],
   "source": [
    "class User:\n",
    "    def __init__(self, email, age):\n",
    "        self.email = email\n",
    "        self.age = age\n",
    "\n",
    "    def create_post(self, content):\n",
    "        print(f'{content} by {self.email}')\n",
    "\n",
    "user1 = User('1st@gmail.com', 20)\n",
    "user1.create_post(\"Hello world\")\n",
    "\n",
    "user2 = User('2nd@gmail.com', 30)\n",
    "user2.create_post(\"Hi there\")"
   ]
  },
  {
   "cell_type": "code",
   "execution_count": 105,
   "id": "11f4b407-2f12-4b2d-9788-448ce47561df",
   "metadata": {},
   "outputs": [
    {
     "name": "stdout",
     "output_type": "stream",
     "text": [
      "100\n",
      "Moon.Co\n"
     ]
    }
   ],
   "source": [
    "# class attributes\n",
    "\n",
    "class Product:\n",
    "    company_name = 'Moon.Co'\n",
    "\n",
    "    def __init__(self, name, price):\n",
    "        self.name = name\n",
    "        self.price = price\n",
    "        \n",
    "    def get_total_price(self, quantity):\n",
    "        return self.price * quantity\n",
    "\n",
    "product1 = Product(\"Bag\", 20)\n",
    "\n",
    "print(product1.get_total_price(5))\n",
    "print(product1.company_name)"
   ]
  },
  {
   "cell_type": "code",
   "execution_count": 106,
   "id": "430833f7-a0e6-40f6-afe1-a64d67402a68",
   "metadata": {},
   "outputs": [
    {
     "name": "stdout",
     "output_type": "stream",
     "text": [
      "[Product(Bag 20), Product(Socks 30), Product(Shoe 13), Product(Trouser 10)]\n",
      "\n",
      "Product(Bag 20)\n",
      "Product(Socks 30)\n",
      "Product(Shoe 13)\n",
      "Product(Trouser 10)\n"
     ]
    }
   ],
   "source": [
    "# class attributes\n",
    "\n",
    "class Product:\n",
    "    all_products = []\n",
    "    company_name = 'Moon.Co'\n",
    "\n",
    "    def __init__(self, name, price):\n",
    "        self.name = name\n",
    "        self.price = price\n",
    "        self.all_products.append(self)\n",
    "\n",
    "    def get_total_price(self, quantity):\n",
    "        return self.price * quantity\n",
    "\n",
    "    #def __repr__(self):\n",
    "    #   return f\"Product({self.name} {self.price})\"\n",
    "\n",
    "    def __repr__(self):\n",
    "        return f\"{self.__class__.__name__}({self.name} {self.price})\"\n",
    "\n",
    "product1 = Product(\"Bag\", 20)\n",
    "product2 = Product(\"Socks\", 30)\n",
    "product3 = Product(\"Shoe\", 13)\n",
    "product4 = Product(\"Trouser\", 10)\n",
    "\n",
    "print(Product.all_products)\n",
    "print()\n",
    "for product in Product.all_products:\n",
    "    print(product)"
   ]
  },
  {
   "cell_type": "code",
   "execution_count": 107,
   "id": "e5bb6307-996b-4625-b1b7-116c8f3d1ab7",
   "metadata": {},
   "outputs": [
    {
     "name": "stdout",
     "output_type": "stream",
     "text": [
      "4\n",
      "4\n"
     ]
    }
   ],
   "source": [
    "# class methods\n",
    "\n",
    "class Product:\n",
    "    all_products = []\n",
    "    company_name = 'Moon.Co'\n",
    "\n",
    "    def __init__(self, name, price):\n",
    "        self.name = name\n",
    "        self.price = price\n",
    "        self.all_products.append(self)\n",
    "\n",
    "    def get_total_price(self, quantity):\n",
    "        return self.price * quantity\n",
    "\n",
    "    @classmethod\n",
    "    def get_product_count(cls):\n",
    "        platform_products = cls.all_products\n",
    "        return len(platform_products)\n",
    "    \n",
    "    def __repr__(self):\n",
    "        return f\"{self.__class__.__name__}({self.name} {self.price})\"\n",
    "\n",
    "product1 = Product(\"Bag\", 20)\n",
    "Product(\"Socks\", 30)\n",
    "Product(\"Shoe\", 13)\n",
    "Product(\"Trouser\", 10)\n",
    "\n",
    "product_count = Product.get_product_count()\n",
    "print(product_count)\n",
    "\n",
    "print(product1.get_product_count())\n",
    "\n"
   ]
  },
  {
   "cell_type": "code",
   "execution_count": 108,
   "id": "dc95a2db-49f1-44e0-af08-a4c92d6f6130",
   "metadata": {},
   "outputs": [
    {
     "name": "stdout",
     "output_type": "stream",
     "text": [
      "12 PM\n"
     ]
    }
   ],
   "source": [
    "# static methods\n",
    "\n",
    "\n",
    "class Product:\n",
    "    all_products = []\n",
    "    company_name = 'Moon.Co'\n",
    "\n",
    "    def __init__(self, name, price):\n",
    "        self.name = name\n",
    "        self.price = price\n",
    "        self.all_products.append(self)\n",
    "\n",
    "    def get_total_price(self, quantity):\n",
    "        return self.price * quantity\n",
    "\n",
    "    @classmethod\n",
    "    def get_product_count(cls):\n",
    "        platform_products = cls.all_products\n",
    "        return len(platform_products)\n",
    "\n",
    "    @staticmethod\n",
    "    def get_current_time():\n",
    "        return \"12 PM\"\n",
    "    \n",
    "    def __repr__(self):\n",
    "        return f\"{self.__class__.__name__}({self.name} {self.price})\"\n",
    "\n",
    "current_time = Product.get_current_time()\n",
    "print(current_time)"
   ]
  },
  {
   "cell_type": "code",
   "execution_count": 109,
   "id": "01c8e5a4-c5a0-4985-b18c-f8caaad19639",
   "metadata": {},
   "outputs": [
    {
     "data": {
      "text/plain": [
       "79"
      ]
     },
     "execution_count": 109,
     "metadata": {},
     "output_type": "execute_result"
    }
   ],
   "source": [
    "# read only attributes : getters & setters\n",
    "\n",
    "\n",
    "class Product:\n",
    "    all_products = []\n",
    "    company_name = 'Moon.Co'\n",
    "\n",
    "    def __init__(self, name, price):\n",
    "        self.name = name\n",
    "        self.__price = price\n",
    "        self.all_products.append(self)\n",
    "\n",
    "    def get_total_price(self, quantity):\n",
    "        return self.__price * quantity\n",
    "\n",
    "    @classmethod\n",
    "    def get_product_count(cls):\n",
    "        platform_products = cls.all_products\n",
    "        return len(platform_products)\n",
    "\n",
    "    @staticmethod\n",
    "    def get_current_time():\n",
    "        return \"12 PM\"\n",
    "    \n",
    "    def __repr__(self):\n",
    "        return f\"{self.__class__.__name__}({self.name} {self.__price})\"\n",
    "\n",
    "    @property\n",
    "    def price(self):\n",
    "        return self.__price\n",
    "\n",
    "    @price.setter\n",
    "    def price(self, value):\n",
    "        if not isinstance(value, (int, float)):\n",
    "            raise ValueError(\"Price must be a number!\")\n",
    "        if value < 60:\n",
    "            raise ValueError(\"Minimum amount is 60!\")\n",
    "        else:\n",
    "            self.__price = value\n",
    "\n",
    "product1 = Product(\"Shirt\", 20)\n",
    "product1.price = 79\n",
    "product1.price"
   ]
  },
  {
   "cell_type": "markdown",
   "id": "11e3d227-e77b-48c8-8960-a3ee4b8fedde",
   "metadata": {},
   "source": [
    "# OOP PRINCIPLES"
   ]
  },
  {
   "cell_type": "code",
   "execution_count": 110,
   "id": "d204f567-c6ef-4e6e-9c0e-c6356bf421a0",
   "metadata": {},
   "outputs": [
    {
     "name": "stdout",
     "output_type": "stream",
     "text": [
      "Animal is eating\n",
      "Domestic\n"
     ]
    }
   ],
   "source": [
    "# OOP Principles\n",
    "# 1. Inheritance\n",
    "\n",
    "class Animal: #Base/Parent class\n",
    "    animal_type = \"Domestic\"\n",
    "    \n",
    "    def eat(self):\n",
    "        print(\"Animal is eating\")\n",
    "\n",
    "    def move(self):\n",
    "        print(\"Animal is moving\")\n",
    "\n",
    "\n",
    "class Cat(Animal): # child/Derived class\n",
    "    pass\n",
    "\n",
    "cat1 = Cat()\n",
    "cat1.eat()\n",
    "print(cat1.animal_type)"
   ]
  },
  {
   "cell_type": "code",
   "execution_count": 111,
   "id": "3f23a111-e9b2-4bee-a278-d4dbb78fb313",
   "metadata": {},
   "outputs": [
    {
     "name": "stdout",
     "output_type": "stream",
     "text": [
      "Animal is eating\n",
      "Cat is eating\n"
     ]
    }
   ],
   "source": [
    "# Single inheritance\n",
    "\n",
    "class Animal: #Base/Parent class\n",
    "    animal_type = \"Domestic\"\n",
    "    \n",
    "    def eat(self):\n",
    "        print(\"Animal is eating\")\n",
    "\n",
    "    def move(self):\n",
    "        print(\"Animal is moving\")\n",
    "\n",
    "\n",
    "class Cat(Animal): # child/Derived class\n",
    "    \n",
    "    # method overriding\n",
    "    def eat(self):\n",
    "        super().eat()\n",
    "        print(\"Cat is eating\")\n",
    "\n",
    "cat1 = Cat()\n",
    "cat1.eat()\n",
    "#print(cat1.animal_type)"
   ]
  },
  {
   "cell_type": "code",
   "execution_count": 112,
   "id": "79dd12d8-1706-437d-aeee-2219f8e89569",
   "metadata": {},
   "outputs": [
    {
     "name": "stdout",
     "output_type": "stream",
     "text": [
      "(<class '__main__.Child1'>, <class '__main__.Parent2'>, <class '__main__.Parent1'>, <class '__main__.Parent3'>, <class 'object'>)\n"
     ]
    }
   ],
   "source": [
    "# multiple inheritance\n",
    "# MRO - Method Resolution Order\n",
    "class Parent1:\n",
    "    def move(self):\n",
    "        print(\"Parent1 move\")\n",
    "\n",
    "class Parent2:\n",
    "    def move(self):\n",
    "        print(\"Parent2 move\")\n",
    "\n",
    "class Parent3:\n",
    "    def move(self):\n",
    "        print(\"Parent3 move\")\n",
    "\n",
    "class Child1(Parent2, Parent1, Parent3):\n",
    "    def move(self):\n",
    "        super().move\n",
    "        print(\"Child move\")\n",
    "\n",
    "\n",
    "''' Method Resolution Order (MRO) - methods are searched from bottom to top (i.e in the child class first then in the parent class) \n",
    "and from left to right (i.e in Parent classes) '''\n",
    "\n",
    "#child1 = Child1()\n",
    "#hild1.move()\n",
    "\n",
    "print(Child1.__mro__)"
   ]
  },
  {
   "cell_type": "markdown",
   "id": "2e9370a4-f74e-4ac7-87d3-bc6365ce9e7a",
   "metadata": {},
   "source": [
    "# Inheritance practice"
   ]
  },
  {
   "cell_type": "code",
   "execution_count": 113,
   "id": "da480553-2865-4ae7-86d0-cbe396a24d23",
   "metadata": {},
   "outputs": [
    {
     "name": "stdout",
     "output_type": "stream",
     "text": [
      "2\n"
     ]
    }
   ],
   "source": [
    "# inheritance practice\n",
    "\n",
    "class Product:\n",
    "    all_products = []\n",
    "    company_name = 'Moon.Co'\n",
    "\n",
    "    def __init__(self, name, price):\n",
    "        self.name = name\n",
    "        self.__price = price\n",
    "        self.all_products.append(self)\n",
    "\n",
    "    def get_total_price(self, quantity):\n",
    "        return self.__price * quantity\n",
    "\n",
    "    @classmethod\n",
    "    def get_product_count(cls):\n",
    "        platform_products = cls.all_products\n",
    "        return len(platform_products)\n",
    "\n",
    "    @staticmethod\n",
    "    def get_current_time():\n",
    "        return \"12 PM\"\n",
    "    \n",
    "    def __repr__(self):\n",
    "        return f\"{self.__class__.__name__}({self.name} {self.__price})\"\n",
    "\n",
    "    @property\n",
    "    def price(self):\n",
    "        return self.__price\n",
    "\n",
    "    @price.setter\n",
    "    def price(self, value):\n",
    "        if not isinstance(value, (int, float)):\n",
    "            raise ValueError(\"Price must be a number!\")\n",
    "        if value < 60:\n",
    "            raise ValueError(\"Minimum amount is 60!\")\n",
    "        else:\n",
    "            self.__price = value\n",
    "\n",
    "\n",
    "class Shirt(Product):\n",
    "    def __init__(self, name, price):\n",
    "        super().__init__(name, price)\n",
    "\n",
    "shirt1 = Shirt(\"Bag\", 20)\n",
    "shirt2 = Shirt(\"Socks\", 10)\n",
    "#print(shirt1)\n",
    "#shirt1.get_total_price(20)\n",
    "print(Shirt.get_product_count())"
   ]
  },
  {
   "cell_type": "markdown",
   "id": "db769368-4339-4c16-89e4-583d606297ef",
   "metadata": {},
   "source": [
    "# 2. Encapsulation"
   ]
  },
  {
   "cell_type": "code",
   "execution_count": 114,
   "id": "136bc52b-e1c9-4ad7-a000-27946927bdce",
   "metadata": {},
   "outputs": [
    {
     "name": "stdout",
     "output_type": "stream",
     "text": [
      "Processing...\n",
      "Report sent to the user!\n"
     ]
    }
   ],
   "source": [
    "#2. Encapsulation\n",
    "\n",
    "class Product:\n",
    "    all_products = []\n",
    "    company_name = 'Moon.Co'\n",
    "\n",
    "    def __init__(self, name, price):\n",
    "        self.name = name\n",
    "        self.__price = price\n",
    "        self.all_products.append(self)\n",
    "\n",
    "    def get_total_price(self, quantity):\n",
    "        return self.__price * quantity\n",
    "\n",
    "    def __process_report(self):\n",
    "        print(\"Processing...\")\n",
    "\n",
    "    def send_report(self):\n",
    "        self.__process_report()\n",
    "        print(\"Report sent to the user!\")\n",
    "\n",
    "    @classmethod\n",
    "    def get_product_count(cls):\n",
    "        platform_products = cls.all_products\n",
    "        return len(platform_products)\n",
    "\n",
    "    @staticmethod\n",
    "    def get_current_time():\n",
    "        return \"12 PM\"\n",
    "    \n",
    "    def __repr__(self):\n",
    "        return f\"{self.__class__.__name__}({self.name} {self.__price})\"\n",
    "\n",
    "    @property\n",
    "    def price(self):\n",
    "        return self.__price\n",
    "\n",
    "    @price.setter\n",
    "    def price(self, value):\n",
    "        if not isinstance(value, (int, float)):\n",
    "            raise ValueError(\"Price must be a number!\")\n",
    "        if value < 60:\n",
    "            raise ValueError(\"Minimum amount is 60!\")\n",
    "        else:\n",
    "            self.__price = value\n",
    "\n",
    "\n",
    "product1 = Product(\"Shirt\", 25)\n",
    "product1.send_report()"
   ]
  },
  {
   "cell_type": "markdown",
   "id": "c1fa7c31-5824-4842-bccb-bf579d4c7867",
   "metadata": {},
   "source": [
    "# 3. Abstraction"
   ]
  },
  {
   "cell_type": "code",
   "execution_count": 115,
   "id": "4011f665-9060-49a8-a6af-0d95d69b0afc",
   "metadata": {},
   "outputs": [
    {
     "name": "stdout",
     "output_type": "stream",
     "text": [
      "Total price is $50\n"
     ]
    }
   ],
   "source": [
    "# 3 Abstraction\n",
    "# only show necessary information and hide unnecessary information\n",
    "from abc import ABC, abstractmethod\n",
    "\n",
    "class AbstractProduct(ABC):\n",
    "    \n",
    "    @abstractmethod\n",
    "    def get_total_price(self):\n",
    "        pass\n",
    "\n",
    "class Product(AbstractProduct):\n",
    "    def get_total_price(self):\n",
    "        print(\"Total price is $50\")\n",
    "\n",
    "product1 = Product()\n",
    "product1.get_total_price()\n",
    "\n",
    "#product2 = AbstractProduct()"
   ]
  },
  {
   "cell_type": "markdown",
   "id": "8c2ce1ed-f142-4f98-a162-e556bc850e66",
   "metadata": {},
   "source": [
    "# 4. Polymorphism"
   ]
  },
  {
   "cell_type": "code",
   "execution_count": 118,
   "id": "d2021b8b-d5d7-43ed-a3d6-49935b9a0f4c",
   "metadata": {},
   "outputs": [
    {
     "name": "stdout",
     "output_type": "stream",
     "text": [
      "Child move\n"
     ]
    }
   ],
   "source": [
    "# 4. Polymorphism\n",
    "# Different behavior in different context\n",
    "# 1. operator polymorphism\n",
    "# 2. functional polymorphism\n",
    "# 3. Method Overloading\n",
    "\n",
    "class Summation:\n",
    "    def sum(a, b, c=None):\n",
    "        pass\n",
    "\n",
    "# 4. Method overriding\n",
    "class Parent:\n",
    "    def move(self):\n",
    "        print(\"Parent1 move\")\n",
    "\n",
    "class Child(Parent):\n",
    "    def move(self):\n",
    "        print(\"Child move\")\n",
    "    \n",
    "child1 = Child()\n",
    "child1.move()\n",
    "\n",
    "    "
   ]
  }
 ],
 "metadata": {
  "kernelspec": {
   "display_name": "Python 3 (ipykernel)",
   "language": "python",
   "name": "python3"
  },
  "language_info": {
   "codemirror_mode": {
    "name": "ipython",
    "version": 3
   },
   "file_extension": ".py",
   "mimetype": "text/x-python",
   "name": "python",
   "nbconvert_exporter": "python",
   "pygments_lexer": "ipython3",
   "version": "3.11.3"
  }
 },
 "nbformat": 4,
 "nbformat_minor": 5
}
